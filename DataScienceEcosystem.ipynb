{
 "cells": [
  {
   "cell_type": "markdown",
   "id": "97cbc9cf-27a3-4a2d-bc92-3e52a1bb14e0",
   "metadata": {},
   "source": [
    "# Data Science Tools and Ecosystem"
   ]
  },
  {
   "cell_type": "markdown",
   "id": "9d0e92af-9acd-4a03-ac2c-7b0d653d81d1",
   "metadata": {},
   "source": [
    "In this notebook, Data Science Tools and Ecosystem are summarized."
   ]
  },
  {
   "cell_type": "markdown",
   "id": "82398eab-98f2-4788-9c50-ce9d2e586f87",
   "metadata": {},
   "source": [
    "Some of the popular languages that Data Scientists use are:"
   ]
  },
  {
   "cell_type": "markdown",
   "id": "4816c93e-d6c7-4fdf-b3ae-35427bd24aeb",
   "metadata": {},
   "source": [
    "1. PYTHON\n",
    "2. SCALA\n",
    "3. R\n"
   ]
  },
  {
   "cell_type": "markdown",
   "id": "d6697d86-4a80-4c1c-99c5-cf5e7d11c472",
   "metadata": {},
   "source": [
    "Some of the commonly used libraries used by Data Scientists include:"
   ]
  },
  {
   "cell_type": "markdown",
   "id": "97f31663-b03a-4125-b119-057835b64ab3",
   "metadata": {},
   "source": [
    "1. PANDAS\n",
    "2. NUMPY\n",
    "3. TENSORFLOW\n",
    "4. SCIKIT-LEARN\n",
    "\n"
   ]
  },
  {
   "cell_type": "markdown",
   "id": "7b0b778e-f5ca-4b40-8a38-d9efcdffd5d5",
   "metadata": {},
   "source": [
    "| Data Science Tools |\n",
    "|--------------------|\n",
    "| PANDAS |\n",
    "| TENSORFLOW |\n",
    "| GGPLOT2 |"
   ]
  },
  {
   "cell_type": "markdown",
   "id": "1b6fa138-d9b1-44a1-8a8b-02872b2b2399",
   "metadata": {},
   "source": [
    "### Below are a few examples of evaluating arithmetic expressions in Python"
   ]
  },
  {
   "cell_type": "markdown",
   "id": "c42f3dc1-ac36-4c9b-a7fc-a752bb5a110e",
   "metadata": {
    "tags": []
   },
   "source": [
    "This a simple arithmetic expression to mutiply then add integers"
   ]
  },
  {
   "cell_type": "code",
   "execution_count": 1,
   "id": "cd156cc2-693c-479c-830a-9945c43b62dd",
   "metadata": {
    "tags": []
   },
   "outputs": [
    {
     "data": {
      "text/plain": [
       "17"
      ]
     },
     "execution_count": 1,
     "metadata": {},
     "output_type": "execute_result"
    }
   ],
   "source": [
    "(3*4)+5"
   ]
  },
  {
   "cell_type": "markdown",
   "id": "26ea3a0c-70ba-424a-beda-9e73f2214ec9",
   "metadata": {},
   "source": [
    "This will convert 200 minutes to hours by diving by 60"
   ]
  },
  {
   "cell_type": "code",
   "execution_count": 7,
   "id": "625ad06c-abe5-40b9-b20b-3b629fbe07c7",
   "metadata": {
    "tags": []
   },
   "outputs": [
    {
     "data": {
      "text/plain": [
       "3.3333333333333335"
      ]
     },
     "execution_count": 7,
     "metadata": {},
     "output_type": "execute_result"
    }
   ],
   "source": [
    "200/60"
   ]
  },
  {
   "cell_type": "markdown",
   "id": "8809a7e8-da28-4935-a5c4-c4611eb57527",
   "metadata": {},
   "source": [
    "**Objectives:.** ."
   ]
  },
  {
   "cell_type": "markdown",
   "id": "d5d634cc-af36-45ba-b8b8-7fb3e03854bd",
   "metadata": {},
   "source": [
    "+ Jupyter kernel\n",
    "+ Jupyter architecture\n",
    "+ List popular languages for Data Science\n"
   ]
  },
  {
   "cell_type": "markdown",
   "id": "1bbdbd3a-6944-4392-b9cc-6d45cfe1712f",
   "metadata": {},
   "source": [
    "## AUTHOR :"
   ]
  },
  {
   "cell_type": "markdown",
   "id": "c9d39860-700b-463d-ab1e-2b1faf5090d8",
   "metadata": {},
   "source": [
    "AVIRAL BAGJANI"
   ]
  },
  {
   "cell_type": "code",
   "execution_count": null,
   "id": "dc27d6b0-15f5-478d-8456-fd3252a347cd",
   "metadata": {},
   "outputs": [],
   "source": []
  }
 ],
 "metadata": {
  "kernelspec": {
   "display_name": "Python",
   "language": "python",
   "name": "conda-env-python-py"
  },
  "language_info": {
   "codemirror_mode": {
    "name": "ipython",
    "version": 3
   },
   "file_extension": ".py",
   "mimetype": "text/x-python",
   "name": "python",
   "nbconvert_exporter": "python",
   "pygments_lexer": "ipython3",
   "version": "3.7.12"
  }
 },
 "nbformat": 4,
 "nbformat_minor": 5
}
